{
 "cells": [
  {
   "cell_type": "markdown",
   "id": "65b21211",
   "metadata": {},
   "source": [
    "# **Data Analysis**"
   ]
  },
  {
   "cell_type": "code",
   "execution_count": 55,
   "id": "a9937e36",
   "metadata": {},
   "outputs": [],
   "source": [
    "import matplotlib.pyplot as plt\n",
    "import numpy as np\n",
    "from sklearn.datasets import load_iris\n",
    "from sklearn.model_selection import train_test_split"
   ]
  },
  {
   "cell_type": "markdown",
   "id": "4751040c",
   "metadata": {},
   "source": [
    "load the dataset"
   ]
  },
  {
   "cell_type": "code",
   "execution_count": 56,
   "id": "2116fc07",
   "metadata": {},
   "outputs": [
    {
     "name": "stdout",
     "output_type": "stream",
     "text": [
      "dict_keys(['data', 'target', 'frame', 'target_names', 'DESCR', 'feature_names', 'filename', 'data_module'])\n",
      "['sepal length (cm)', 'sepal width (cm)', 'petal length (cm)', 'petal width (cm)']\n"
     ]
    }
   ],
   "source": [
    "iris_dataset = load_iris()\n",
    "print(iris_dataset.keys())\n",
    "print(iris_dataset[\"feature_names\"])"
   ]
  },
  {
   "cell_type": "markdown",
   "id": "951e4263",
   "metadata": {},
   "source": [
    "look at first 5 samples"
   ]
  },
  {
   "cell_type": "code",
   "execution_count": 57,
   "id": "5c35272b",
   "metadata": {},
   "outputs": [
    {
     "name": "stdout",
     "output_type": "stream",
     "text": [
      "<class 'numpy.ndarray'>\n",
      "data, rows by column / samples by features: (150, 4)\n",
      "[[5.1 3.5 1.4 0.2]\n",
      " [4.9 3.  1.4 0.2]\n",
      " [4.7 3.2 1.3 0.2]\n",
      " [4.6 3.1 1.5 0.2]\n",
      " [5.  3.6 1.4 0.2]]\n"
     ]
    }
   ],
   "source": [
    "print(type(iris_dataset[\"data\"]))\n",
    "print(\"data, rows by column / samples by features: \" + str(iris_dataset[\"data\"].shape))\n",
    "# print(iris_dataset[\"data\"][0,1]) indexing same as R dataframe\n",
    "print(iris_dataset[\"data\"][:5])"
   ]
  },
  {
   "cell_type": "markdown",
   "id": "4a0e5317",
   "metadata": {},
   "source": [
    "0, 1, 2 represent different species"
   ]
  },
  {
   "cell_type": "code",
   "execution_count": 58,
   "id": "4e632619",
   "metadata": {},
   "outputs": [
    {
     "name": "stdout",
     "output_type": "stream",
     "text": [
      "(150,)\n",
      "\n",
      "[0 0 0 0 0 0 0 0 0 0 0 0 0 0 0 0 0 0 0 0 0 0 0 0 0 0 0 0 0 0 0 0 0 0 0 0 0\n",
      " 0 0 0 0 0 0 0 0 0 0 0 0 0 1 1 1 1 1 1 1 1 1 1 1 1 1 1 1 1 1 1 1 1 1 1 1 1\n",
      " 1 1 1 1 1 1 1 1 1 1 1 1 1 1 1 1 1 1 1 1 1 1 1 1 1 1 2 2 2 2 2 2 2 2 2 2 2\n",
      " 2 2 2 2 2 2 2 2 2 2 2 2 2 2 2 2 2 2 2 2 2 2 2 2 2 2 2 2 2 2 2 2 2 2 2 2 2\n",
      " 2 2]\n"
     ]
    }
   ],
   "source": [
    "print(iris_dataset[\"target\"].shape)\n",
    "print(\"\")\n",
    "print(iris_dataset[\"target\"])"
   ]
  },
  {
   "cell_type": "markdown",
   "id": "f96d5511",
   "metadata": {},
   "source": [
    "Seperate the date into training/testing data, X used to denote data, y for labels"
   ]
  },
  {
   "cell_type": "code",
   "execution_count": 59,
   "id": "44896c62",
   "metadata": {},
   "outputs": [
    {
     "name": "stdout",
     "output_type": "stream",
     "text": [
      "(112, 4)\n",
      "(112,)\n",
      "\n",
      "(38, 4)\n",
      "(38,)\n"
     ]
    }
   ],
   "source": [
    "X_train, X_test, y_train, y_test = train_test_split(iris_dataset[\"data\"], iris_dataset[\"target\"], random_state=0)\n",
    "# random state is the same as seed in R random samples\n",
    "\n",
    "print(X_train.shape) # training data(samples, features)\n",
    "print(y_train.shape) # training data (labels(ie species 0,1,2))\n",
    "print(\"\")\n",
    "print(X_test.shape) # test data(samples, features)\n",
    "print(y_test.shape) # test data (labels(ie species 0,1,2))"
   ]
  },
  {
   "cell_type": "markdown",
   "id": "4ca8eea9",
   "metadata": {},
   "source": [
    "## **K-nearest neighbors**"
   ]
  },
  {
   "cell_type": "code",
   "execution_count": 60,
   "id": "ac649283",
   "metadata": {},
   "outputs": [],
   "source": [
    "from sklearn.neighbors import KNeighborsClassifier\n",
    "k_nearest = KNeighborsClassifier(n_neighbors=1)"
   ]
  },
  {
   "cell_type": "code",
   "execution_count": 61,
   "id": "0b73dcdf",
   "metadata": {},
   "outputs": [
    {
     "name": "stdout",
     "output_type": "stream",
     "text": [
      "{'algorithm': 'auto', 'leaf_size': 30, 'metric': 'minkowski', 'metric_params': None, 'n_jobs': None, 'n_neighbors': 1, 'p': 2, 'weights': 'uniform'}\n"
     ]
    }
   ],
   "source": [
    "k_nearest.fit(X_train, y_train)\n",
    "print(k_nearest.get_params())"
   ]
  },
  {
   "cell_type": "markdown",
   "id": "17bd5f9b",
   "metadata": {},
   "source": [
    "Testing model"
   ]
  },
  {
   "cell_type": "code",
   "execution_count": 62,
   "id": "5e1de9ae",
   "metadata": {},
   "outputs": [
    {
     "name": "stdout",
     "output_type": "stream",
     "text": [
      "(1, 4)\n",
      "[0]\n",
      "['the new flower is of species: setosa']\n"
     ]
    }
   ],
   "source": [
    "X_new = np.array([[5, 2.9, 1, 0.2]]) # has to be two dimensional([[   ]]) to use skcikit-learn\n",
    "print(X_new.shape)\n",
    "\n",
    "prediction = k_nearest.predict(X_new)\n",
    "print(prediction)\n",
    "print(\"the new flower is of species: \" + iris_dataset[\"target_names\"][prediction])\n"
   ]
  },
  {
   "cell_type": "markdown",
   "id": "004319a7",
   "metadata": {},
   "source": [
    "**Evaluating the model**"
   ]
  },
  {
   "cell_type": "code",
   "execution_count": 63,
   "id": "2ad1a7c5",
   "metadata": {},
   "outputs": [
    {
     "name": "stdout",
     "output_type": "stream",
     "text": [
      "[2 1 0 2 0 2 0 1 1 1 2 1 1 1 1 0 1 1 0 0 2 1 0 0 2 0 0 1 1 0 2 1 0 2 2 1 0\n",
      " 2]\n",
      "0.9736842105263158\n"
     ]
    }
   ],
   "source": [
    "y_prediction = k_nearest.predict(X_test)\n",
    "print(y_prediction)\n",
    "test_score = np.mean(y_test == y_prediction)\n",
    "print(test_score)"
   ]
  },
  {
   "cell_type": "code",
   "execution_count": 64,
   "id": "950b6ce8",
   "metadata": {},
   "outputs": [
    {
     "name": "stdout",
     "output_type": "stream",
     "text": [
      "0.9736842105263158\n"
     ]
    }
   ],
   "source": [
    "# or alternatively\n",
    "\n",
    "test_score = k_nearest.score(X_test, y_test)\n",
    "print(test_score)"
   ]
  }
 ],
 "metadata": {
  "kernelspec": {
   "display_name": "venv",
   "language": "python",
   "name": "python3"
  },
  "language_info": {
   "codemirror_mode": {
    "name": "ipython",
    "version": 3
   },
   "file_extension": ".py",
   "mimetype": "text/x-python",
   "name": "python",
   "nbconvert_exporter": "python",
   "pygments_lexer": "ipython3",
   "version": "3.12.4"
  }
 },
 "nbformat": 4,
 "nbformat_minor": 5
}
